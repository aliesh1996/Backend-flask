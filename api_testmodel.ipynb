{
  "nbformat": 4,
  "nbformat_minor": 0,
  "metadata": {
    "colab": {
      "provenance": []
    },
    "kernelspec": {
      "name": "python3",
      "display_name": "Python 3"
    }
  },
  "cells": [
    {
      "cell_type": "code",
      "metadata": {
        "colab": {
          "base_uri": "https://localhost:8080/"
        },
        "id": "WzhWMA_3FeKL",
        "outputId": "a13a513e-6698-4215-8f1d-6347ab84a748"
      },
      "source": [
        "from __future__ import print_function\n",
        "import os\n",
        "import numpy as np\n",
        "import keras\n",
        "from keras.datasets import reuters\n",
        "from keras.models import Sequential\n",
        "from keras.layers import Dense, Dropout, Activation\n",
        "from keras.preprocessing.text import Tokenizer\n",
        "from keras.callbacks import ModelCheckpoint\n",
        "\n",
        "from google.colab import drive\n",
        "drive.mount('/content/drive')"
      ],
      "execution_count": null,
      "outputs": [
        {
          "output_type": "stream",
          "text": [
            "Drive already mounted at /content/drive; to attempt to forcibly remount, call drive.mount(\"/content/drive\", force_remount=True).\n"
          ],
          "name": "stdout"
        }
      ]
    },
    {
      "cell_type": "code",
      "metadata": {
        "colab": {
          "base_uri": "https://localhost:8080/"
        },
        "id": "JilG9W05FiWD",
        "outputId": "a391c3ea-0276-4237-cf23-ee77f4d06d97"
      },
      "source": [
        "MODEL_DIR = './models'\n",
        "\n",
        "max_words = 1000\n",
        "batch_size = 32\n",
        "epochs = 5\n",
        "\n",
        "print('Loading data...')\n",
        "(x_train, y_train), (x_test, y_test) = reuters.load_data(num_words=max_words,\n",
        "                                                         test_split=0.2)\n",
        "print(len(x_train), 'train sequences')\n",
        "print(len(x_test), 'test sequences')\n",
        "\n",
        "num_classes = np.max(y_train) + 1\n",
        "print(num_classes, 'classes')\n",
        "\n",
        "print('Vectorizing sequence data...')\n",
        "tokenizer = Tokenizer(num_words=max_words)\n",
        "x_train = tokenizer.sequences_to_matrix(x_train, mode='binary')\n",
        "x_test = tokenizer.sequences_to_matrix(x_test, mode='binary')\n",
        "print('x_train shape:', x_train.shape)\n",
        "print('x_test shape:', x_test.shape)\n",
        "\n",
        "print('Convert class vector to binary class matrix '\n",
        "      '(for use with categorical_crossentropy)')\n",
        "y_train = keras.utils.to_categorical(y_train, num_classes)\n",
        "y_test = keras.utils.to_categorical(y_test, num_classes)\n",
        "print('y_train shape:', y_train.shape)\n",
        "print('y_test shape:', y_test.shape)\n",
        "\n",
        "print('Building model...')\n",
        "model = Sequential()\n",
        "model.add(Dense(512, input_shape=(max_words,)))\n",
        "model.add(Activation('relu'))\n",
        "model.add(Dropout(0.5))\n",
        "model.add(Dense(num_classes))\n",
        "model.add(Activation('softmax'))\n",
        "\n",
        "model.compile(loss='categorical_crossentropy',\n",
        "              optimizer='adam',\n",
        "              metrics=['accuracy'])\n",
        "\n",
        "# if not os.path.exists(''):\n",
        "#     os.makedirs(MODEL_DIR)\n",
        "\n",
        "mcp = ModelCheckpoint(os.path.join(MODEL_DIR, 'reuters_model.hdf5'), monitor=\"val_acc\",\n",
        "                      save_best_only=True)\n",
        "\n",
        "history = model.fit(x_train, y_train,\n",
        "                    batch_size=batch_size,\n",
        "                    epochs=epochs,\n",
        "                    verbose=1,\n",
        "                    validation_split=0.1,\n",
        "                    callbacks=[mcp])\n",
        "\n",
        "score = model.evaluate(x_test, y_test,\n",
        "                       batch_size=batch_size, verbose=1)\n",
        "print('Test score:', score[0])\n",
        "print('Test accuracy:', score[1])"
      ],
      "execution_count": null,
      "outputs": [
        {
          "output_type": "stream",
          "text": [
            "Loading data...\n",
            "8982 train sequences\n",
            "2246 test sequences\n",
            "46 classes\n",
            "Vectorizing sequence data...\n",
            "x_train shape: (8982, 1000)\n",
            "x_test shape: (2246, 1000)\n",
            "Convert class vector to binary class matrix (for use with categorical_crossentropy)\n",
            "y_train shape: (8982, 46)\n",
            "y_test shape: (2246, 46)\n",
            "Building model...\n",
            "Epoch 1/5\n",
            "244/253 [===========================>..] - ETA: 0s - loss: 1.4350 - accuracy: 0.6811WARNING:tensorflow:Can save best model only with val_acc available, skipping.\n",
            "253/253 [==============================] - 1s 6ms/step - loss: 1.4228 - accuracy: 0.6842 - val_loss: 1.0926 - val_accuracy: 0.7564\n",
            "Epoch 2/5\n",
            "245/253 [============================>.] - ETA: 0s - loss: 0.7851 - accuracy: 0.8156WARNING:tensorflow:Can save best model only with val_acc available, skipping.\n",
            "253/253 [==============================] - 1s 5ms/step - loss: 0.7869 - accuracy: 0.8157 - val_loss: 0.9194 - val_accuracy: 0.7898\n",
            "Epoch 3/5\n",
            "244/253 [===========================>..] - ETA: 0s - loss: 0.5423 - accuracy: 0.8690WARNING:tensorflow:Can save best model only with val_acc available, skipping.\n",
            "253/253 [==============================] - 1s 5ms/step - loss: 0.5465 - accuracy: 0.8681 - val_loss: 0.8729 - val_accuracy: 0.8053\n",
            "Epoch 4/5\n",
            "253/253 [==============================] - ETA: 0s - loss: 0.4073 - accuracy: 0.9018WARNING:tensorflow:Can save best model only with val_acc available, skipping.\n",
            "253/253 [==============================] - 1s 5ms/step - loss: 0.4073 - accuracy: 0.9018 - val_loss: 0.8742 - val_accuracy: 0.8009\n",
            "Epoch 5/5\n",
            "249/253 [============================>.] - ETA: 0s - loss: 0.3333 - accuracy: 0.9158WARNING:tensorflow:Can save best model only with val_acc available, skipping.\n",
            "253/253 [==============================] - 1s 5ms/step - loss: 0.3338 - accuracy: 0.9155 - val_loss: 0.8994 - val_accuracy: 0.8109\n",
            "71/71 [==============================] - 0s 2ms/step - loss: 0.8902 - accuracy: 0.7925\n",
            "Test score: 0.8902165293693542\n",
            "Test accuracy: 0.7925200462341309\n"
          ],
          "name": "stdout"
        }
      ]
    },
    {
      "cell_type": "markdown",
      "metadata": {
        "id": "RBnWYH7Q01Lv"
      },
      "source": []
    }
  ]
}